{
 "cells": [
  {
   "cell_type": "code",
   "execution_count": null,
   "metadata": {},
   "outputs": [],
   "source": [
    "import tensorflow as tf\n",
    "import numpy as np\n",
    "import matplotlib.pyplot as plt\n",
    "from helper import plot_loss_function, load_and_prep_image, make_confusion_matrix, pred_and_plot, walk_through_dir, create_tensorboard_callback"
   ]
  },
  {
   "cell_type": "markdown",
   "metadata": {},
   "source": [
    "# Transfer Learning Scaling Up"
   ]
  },
  {
   "cell_type": "code",
   "execution_count": 3,
   "metadata": {},
   "outputs": [],
   "source": [
    "train_dir = 'data/101_food_classes_10_percent/train/'\n",
    "test_dir = 'data/101_food_classes_10_percent/test/'"
   ]
  },
  {
   "cell_type": "code",
   "execution_count": 4,
   "metadata": {},
   "outputs": [
    {
     "name": "stdout",
     "output_type": "stream",
     "text": [
      "There are 2 directories and 0 images in 'data/101_food_classes_10_percent/'.\n",
      "There are 101 directories and 0 images in 'data/101_food_classes_10_percent/test'.\n",
      "There are 0 directories and 250 images in 'data/101_food_classes_10_percent/test/foie_gras'.\n",
      "There are 0 directories and 250 images in 'data/101_food_classes_10_percent/test/club_sandwich'.\n",
      "There are 0 directories and 250 images in 'data/101_food_classes_10_percent/test/cheese_plate'.\n",
      "There are 0 directories and 250 images in 'data/101_food_classes_10_percent/test/cup_cakes'.\n",
      "There are 0 directories and 250 images in 'data/101_food_classes_10_percent/test/garlic_bread'.\n",
      "There are 0 directories and 250 images in 'data/101_food_classes_10_percent/test/gnocchi'.\n",
      "There are 0 directories and 250 images in 'data/101_food_classes_10_percent/test/ice_cream'.\n",
      "There are 0 directories and 250 images in 'data/101_food_classes_10_percent/test/samosa'.\n",
      "There are 0 directories and 250 images in 'data/101_food_classes_10_percent/test/donuts'.\n",
      "There are 0 directories and 250 images in 'data/101_food_classes_10_percent/test/tuna_tartare'.\n",
      "There are 0 directories and 250 images in 'data/101_food_classes_10_percent/test/filet_mignon'.\n",
      "There are 0 directories and 250 images in 'data/101_food_classes_10_percent/test/seaweed_salad'.\n",
      "There are 0 directories and 250 images in 'data/101_food_classes_10_percent/test/french_toast'.\n",
      "There are 0 directories and 250 images in 'data/101_food_classes_10_percent/test/chicken_curry'.\n",
      "There are 0 directories and 250 images in 'data/101_food_classes_10_percent/test/shrimp_and_grits'.\n",
      "There are 0 directories and 250 images in 'data/101_food_classes_10_percent/test/steak'.\n",
      "There are 0 directories and 250 images in 'data/101_food_classes_10_percent/test/cheesecake'.\n",
      "There are 0 directories and 250 images in 'data/101_food_classes_10_percent/test/red_velvet_cake'.\n",
      "There are 0 directories and 250 images in 'data/101_food_classes_10_percent/test/waffles'.\n",
      "There are 0 directories and 250 images in 'data/101_food_classes_10_percent/test/churros'.\n",
      "There are 0 directories and 250 images in 'data/101_food_classes_10_percent/test/gyoza'.\n",
      "There are 0 directories and 250 images in 'data/101_food_classes_10_percent/test/lobster_roll_sandwich'.\n",
      "There are 0 directories and 250 images in 'data/101_food_classes_10_percent/test/huevos_rancheros'.\n",
      "There are 0 directories and 250 images in 'data/101_food_classes_10_percent/test/breakfast_burrito'.\n",
      "There are 0 directories and 250 images in 'data/101_food_classes_10_percent/test/grilled_cheese_sandwich'.\n",
      "There are 0 directories and 250 images in 'data/101_food_classes_10_percent/test/spaghetti_bolognese'.\n",
      "There are 0 directories and 250 images in 'data/101_food_classes_10_percent/test/falafel'.\n",
      "There are 0 directories and 250 images in 'data/101_food_classes_10_percent/test/poutine'.\n",
      "There are 0 directories and 250 images in 'data/101_food_classes_10_percent/test/greek_salad'.\n",
      "There are 0 directories and 250 images in 'data/101_food_classes_10_percent/test/beef_tartare'.\n",
      "There are 0 directories and 250 images in 'data/101_food_classes_10_percent/test/fried_calamari'.\n",
      "There are 0 directories and 250 images in 'data/101_food_classes_10_percent/test/guacamole'.\n",
      "There are 0 directories and 250 images in 'data/101_food_classes_10_percent/test/ravioli'.\n",
      "There are 0 directories and 250 images in 'data/101_food_classes_10_percent/test/lobster_bisque'.\n",
      "There are 0 directories and 250 images in 'data/101_food_classes_10_percent/test/beet_salad'.\n",
      "There are 0 directories and 250 images in 'data/101_food_classes_10_percent/test/risotto'.\n",
      "There are 0 directories and 250 images in 'data/101_food_classes_10_percent/test/crab_cakes'.\n",
      "There are 0 directories and 250 images in 'data/101_food_classes_10_percent/test/strawberry_shortcake'.\n",
      "There are 0 directories and 250 images in 'data/101_food_classes_10_percent/test/edamame'.\n",
      "There are 0 directories and 250 images in 'data/101_food_classes_10_percent/test/ceviche'.\n",
      "There are 0 directories and 250 images in 'data/101_food_classes_10_percent/test/hot_and_sour_soup'.\n",
      "There are 0 directories and 250 images in 'data/101_food_classes_10_percent/test/spring_rolls'.\n",
      "There are 0 directories and 250 images in 'data/101_food_classes_10_percent/test/sashimi'.\n",
      "There are 0 directories and 250 images in 'data/101_food_classes_10_percent/test/paella'.\n",
      "There are 0 directories and 250 images in 'data/101_food_classes_10_percent/test/clam_chowder'.\n",
      "There are 0 directories and 250 images in 'data/101_food_classes_10_percent/test/miso_soup'.\n",
      "There are 0 directories and 250 images in 'data/101_food_classes_10_percent/test/escargots'.\n",
      "There are 0 directories and 250 images in 'data/101_food_classes_10_percent/test/hot_dog'.\n",
      "There are 0 directories and 250 images in 'data/101_food_classes_10_percent/test/pulled_pork_sandwich'.\n",
      "There are 0 directories and 250 images in 'data/101_food_classes_10_percent/test/bruschetta'.\n",
      "There are 0 directories and 250 images in 'data/101_food_classes_10_percent/test/panna_cotta'.\n",
      "There are 0 directories and 250 images in 'data/101_food_classes_10_percent/test/fish_and_chips'.\n",
      "There are 0 directories and 250 images in 'data/101_food_classes_10_percent/test/pad_thai'.\n",
      "There are 0 directories and 250 images in 'data/101_food_classes_10_percent/test/tiramisu'.\n",
      "There are 0 directories and 250 images in 'data/101_food_classes_10_percent/test/takoyaki'.\n",
      "There are 0 directories and 250 images in 'data/101_food_classes_10_percent/test/macarons'.\n",
      "There are 0 directories and 250 images in 'data/101_food_classes_10_percent/test/apple_pie'.\n",
      "There are 0 directories and 250 images in 'data/101_food_classes_10_percent/test/cannoli'.\n",
      "There are 0 directories and 250 images in 'data/101_food_classes_10_percent/test/scallops'.\n",
      "There are 0 directories and 250 images in 'data/101_food_classes_10_percent/test/frozen_yogurt'.\n",
      "There are 0 directories and 250 images in 'data/101_food_classes_10_percent/test/chicken_quesadilla'.\n",
      "There are 0 directories and 250 images in 'data/101_food_classes_10_percent/test/mussels'.\n",
      "There are 0 directories and 250 images in 'data/101_food_classes_10_percent/test/beef_carpaccio'.\n",
      "There are 0 directories and 250 images in 'data/101_food_classes_10_percent/test/eggs_benedict'.\n",
      "There are 0 directories and 250 images in 'data/101_food_classes_10_percent/test/spaghetti_carbonara'.\n",
      "There are 0 directories and 250 images in 'data/101_food_classes_10_percent/test/omelette'.\n",
      "There are 0 directories and 250 images in 'data/101_food_classes_10_percent/test/sushi'.\n",
      "There are 0 directories and 250 images in 'data/101_food_classes_10_percent/test/chocolate_mousse'.\n",
      "There are 0 directories and 250 images in 'data/101_food_classes_10_percent/test/beignets'.\n",
      "There are 0 directories and 250 images in 'data/101_food_classes_10_percent/test/bibimbap'.\n",
      "There are 0 directories and 250 images in 'data/101_food_classes_10_percent/test/hummus'.\n",
      "There are 0 directories and 250 images in 'data/101_food_classes_10_percent/test/pork_chop'.\n",
      "There are 0 directories and 250 images in 'data/101_food_classes_10_percent/test/chicken_wings'.\n",
      "There are 0 directories and 250 images in 'data/101_food_classes_10_percent/test/grilled_salmon'.\n",
      "There are 0 directories and 250 images in 'data/101_food_classes_10_percent/test/chocolate_cake'.\n",
      "There are 0 directories and 250 images in 'data/101_food_classes_10_percent/test/tacos'.\n",
      "There are 0 directories and 250 images in 'data/101_food_classes_10_percent/test/hamburger'.\n",
      "There are 0 directories and 250 images in 'data/101_food_classes_10_percent/test/baby_back_ribs'.\n",
      "There are 0 directories and 250 images in 'data/101_food_classes_10_percent/test/pancakes'.\n",
      "There are 0 directories and 250 images in 'data/101_food_classes_10_percent/test/prime_rib'.\n",
      "There are 0 directories and 250 images in 'data/101_food_classes_10_percent/test/pizza'.\n",
      "There are 0 directories and 250 images in 'data/101_food_classes_10_percent/test/nachos'.\n",
      "There are 0 directories and 250 images in 'data/101_food_classes_10_percent/test/macaroni_and_cheese'.\n",
      "There are 0 directories and 250 images in 'data/101_food_classes_10_percent/test/bread_pudding'.\n",
      "There are 0 directories and 250 images in 'data/101_food_classes_10_percent/test/ramen'.\n",
      "There are 0 directories and 250 images in 'data/101_food_classes_10_percent/test/croque_madame'.\n",
      "There are 0 directories and 250 images in 'data/101_food_classes_10_percent/test/lasagna'.\n",
      "There are 0 directories and 250 images in 'data/101_food_classes_10_percent/test/peking_duck'.\n",
      "There are 0 directories and 250 images in 'data/101_food_classes_10_percent/test/deviled_eggs'.\n",
      "There are 0 directories and 250 images in 'data/101_food_classes_10_percent/test/french_fries'.\n",
      "There are 0 directories and 250 images in 'data/101_food_classes_10_percent/test/dumplings'.\n",
      "There are 0 directories and 250 images in 'data/101_food_classes_10_percent/test/fried_rice'.\n",
      "There are 0 directories and 250 images in 'data/101_food_classes_10_percent/test/french_onion_soup'.\n",
      "There are 0 directories and 250 images in 'data/101_food_classes_10_percent/test/pho'.\n",
      "There are 0 directories and 250 images in 'data/101_food_classes_10_percent/test/caprese_salad'.\n",
      "There are 0 directories and 250 images in 'data/101_food_classes_10_percent/test/oysters'.\n",
      "There are 0 directories and 250 images in 'data/101_food_classes_10_percent/test/baklava'.\n",
      "There are 0 directories and 250 images in 'data/101_food_classes_10_percent/test/creme_brulee'.\n",
      "There are 0 directories and 250 images in 'data/101_food_classes_10_percent/test/carrot_cake'.\n",
      "There are 0 directories and 250 images in 'data/101_food_classes_10_percent/test/onion_rings'.\n",
      "There are 0 directories and 250 images in 'data/101_food_classes_10_percent/test/caesar_salad'.\n",
      "There are 101 directories and 0 images in 'data/101_food_classes_10_percent/train'.\n",
      "There are 0 directories and 75 images in 'data/101_food_classes_10_percent/train/foie_gras'.\n",
      "There are 0 directories and 75 images in 'data/101_food_classes_10_percent/train/club_sandwich'.\n",
      "There are 0 directories and 75 images in 'data/101_food_classes_10_percent/train/cheese_plate'.\n",
      "There are 0 directories and 75 images in 'data/101_food_classes_10_percent/train/cup_cakes'.\n",
      "There are 0 directories and 75 images in 'data/101_food_classes_10_percent/train/garlic_bread'.\n",
      "There are 0 directories and 75 images in 'data/101_food_classes_10_percent/train/gnocchi'.\n",
      "There are 0 directories and 75 images in 'data/101_food_classes_10_percent/train/ice_cream'.\n",
      "There are 0 directories and 75 images in 'data/101_food_classes_10_percent/train/samosa'.\n",
      "There are 0 directories and 75 images in 'data/101_food_classes_10_percent/train/donuts'.\n",
      "There are 0 directories and 75 images in 'data/101_food_classes_10_percent/train/tuna_tartare'.\n",
      "There are 0 directories and 75 images in 'data/101_food_classes_10_percent/train/filet_mignon'.\n",
      "There are 0 directories and 75 images in 'data/101_food_classes_10_percent/train/seaweed_salad'.\n",
      "There are 0 directories and 75 images in 'data/101_food_classes_10_percent/train/french_toast'.\n",
      "There are 0 directories and 75 images in 'data/101_food_classes_10_percent/train/chicken_curry'.\n",
      "There are 0 directories and 75 images in 'data/101_food_classes_10_percent/train/shrimp_and_grits'.\n",
      "There are 0 directories and 75 images in 'data/101_food_classes_10_percent/train/steak'.\n",
      "There are 0 directories and 75 images in 'data/101_food_classes_10_percent/train/cheesecake'.\n",
      "There are 0 directories and 75 images in 'data/101_food_classes_10_percent/train/red_velvet_cake'.\n",
      "There are 0 directories and 75 images in 'data/101_food_classes_10_percent/train/waffles'.\n",
      "There are 0 directories and 75 images in 'data/101_food_classes_10_percent/train/churros'.\n",
      "There are 0 directories and 75 images in 'data/101_food_classes_10_percent/train/gyoza'.\n",
      "There are 0 directories and 75 images in 'data/101_food_classes_10_percent/train/lobster_roll_sandwich'.\n",
      "There are 0 directories and 75 images in 'data/101_food_classes_10_percent/train/huevos_rancheros'.\n",
      "There are 0 directories and 75 images in 'data/101_food_classes_10_percent/train/breakfast_burrito'.\n",
      "There are 0 directories and 75 images in 'data/101_food_classes_10_percent/train/grilled_cheese_sandwich'.\n",
      "There are 0 directories and 75 images in 'data/101_food_classes_10_percent/train/spaghetti_bolognese'.\n",
      "There are 0 directories and 75 images in 'data/101_food_classes_10_percent/train/falafel'.\n",
      "There are 0 directories and 75 images in 'data/101_food_classes_10_percent/train/poutine'.\n",
      "There are 0 directories and 75 images in 'data/101_food_classes_10_percent/train/greek_salad'.\n",
      "There are 0 directories and 75 images in 'data/101_food_classes_10_percent/train/beef_tartare'.\n",
      "There are 0 directories and 75 images in 'data/101_food_classes_10_percent/train/fried_calamari'.\n",
      "There are 0 directories and 75 images in 'data/101_food_classes_10_percent/train/guacamole'.\n",
      "There are 0 directories and 75 images in 'data/101_food_classes_10_percent/train/ravioli'.\n",
      "There are 0 directories and 75 images in 'data/101_food_classes_10_percent/train/lobster_bisque'.\n",
      "There are 0 directories and 75 images in 'data/101_food_classes_10_percent/train/beet_salad'.\n",
      "There are 0 directories and 75 images in 'data/101_food_classes_10_percent/train/risotto'.\n",
      "There are 0 directories and 75 images in 'data/101_food_classes_10_percent/train/crab_cakes'.\n",
      "There are 0 directories and 75 images in 'data/101_food_classes_10_percent/train/strawberry_shortcake'.\n",
      "There are 0 directories and 75 images in 'data/101_food_classes_10_percent/train/edamame'.\n",
      "There are 0 directories and 75 images in 'data/101_food_classes_10_percent/train/ceviche'.\n",
      "There are 0 directories and 75 images in 'data/101_food_classes_10_percent/train/hot_and_sour_soup'.\n",
      "There are 0 directories and 75 images in 'data/101_food_classes_10_percent/train/spring_rolls'.\n",
      "There are 0 directories and 75 images in 'data/101_food_classes_10_percent/train/sashimi'.\n",
      "There are 0 directories and 75 images in 'data/101_food_classes_10_percent/train/paella'.\n",
      "There are 0 directories and 75 images in 'data/101_food_classes_10_percent/train/clam_chowder'.\n",
      "There are 0 directories and 75 images in 'data/101_food_classes_10_percent/train/miso_soup'.\n",
      "There are 0 directories and 75 images in 'data/101_food_classes_10_percent/train/escargots'.\n",
      "There are 0 directories and 75 images in 'data/101_food_classes_10_percent/train/hot_dog'.\n",
      "There are 0 directories and 75 images in 'data/101_food_classes_10_percent/train/pulled_pork_sandwich'.\n",
      "There are 0 directories and 75 images in 'data/101_food_classes_10_percent/train/bruschetta'.\n",
      "There are 0 directories and 75 images in 'data/101_food_classes_10_percent/train/panna_cotta'.\n",
      "There are 0 directories and 75 images in 'data/101_food_classes_10_percent/train/fish_and_chips'.\n",
      "There are 0 directories and 75 images in 'data/101_food_classes_10_percent/train/pad_thai'.\n",
      "There are 0 directories and 75 images in 'data/101_food_classes_10_percent/train/tiramisu'.\n",
      "There are 0 directories and 75 images in 'data/101_food_classes_10_percent/train/takoyaki'.\n",
      "There are 0 directories and 75 images in 'data/101_food_classes_10_percent/train/macarons'.\n",
      "There are 0 directories and 75 images in 'data/101_food_classes_10_percent/train/apple_pie'.\n",
      "There are 0 directories and 75 images in 'data/101_food_classes_10_percent/train/cannoli'.\n",
      "There are 0 directories and 75 images in 'data/101_food_classes_10_percent/train/scallops'.\n",
      "There are 0 directories and 75 images in 'data/101_food_classes_10_percent/train/frozen_yogurt'.\n",
      "There are 0 directories and 75 images in 'data/101_food_classes_10_percent/train/chicken_quesadilla'.\n",
      "There are 0 directories and 75 images in 'data/101_food_classes_10_percent/train/mussels'.\n",
      "There are 0 directories and 75 images in 'data/101_food_classes_10_percent/train/beef_carpaccio'.\n",
      "There are 0 directories and 75 images in 'data/101_food_classes_10_percent/train/eggs_benedict'.\n",
      "There are 0 directories and 75 images in 'data/101_food_classes_10_percent/train/spaghetti_carbonara'.\n",
      "There are 0 directories and 75 images in 'data/101_food_classes_10_percent/train/omelette'.\n",
      "There are 0 directories and 75 images in 'data/101_food_classes_10_percent/train/sushi'.\n",
      "There are 0 directories and 75 images in 'data/101_food_classes_10_percent/train/chocolate_mousse'.\n",
      "There are 0 directories and 75 images in 'data/101_food_classes_10_percent/train/beignets'.\n",
      "There are 0 directories and 75 images in 'data/101_food_classes_10_percent/train/bibimbap'.\n",
      "There are 0 directories and 75 images in 'data/101_food_classes_10_percent/train/hummus'.\n",
      "There are 0 directories and 75 images in 'data/101_food_classes_10_percent/train/pork_chop'.\n",
      "There are 0 directories and 75 images in 'data/101_food_classes_10_percent/train/chicken_wings'.\n",
      "There are 0 directories and 75 images in 'data/101_food_classes_10_percent/train/grilled_salmon'.\n",
      "There are 0 directories and 75 images in 'data/101_food_classes_10_percent/train/chocolate_cake'.\n",
      "There are 0 directories and 75 images in 'data/101_food_classes_10_percent/train/tacos'.\n",
      "There are 0 directories and 75 images in 'data/101_food_classes_10_percent/train/hamburger'.\n",
      "There are 0 directories and 75 images in 'data/101_food_classes_10_percent/train/baby_back_ribs'.\n",
      "There are 0 directories and 75 images in 'data/101_food_classes_10_percent/train/pancakes'.\n",
      "There are 0 directories and 75 images in 'data/101_food_classes_10_percent/train/prime_rib'.\n",
      "There are 0 directories and 75 images in 'data/101_food_classes_10_percent/train/pizza'.\n",
      "There are 0 directories and 75 images in 'data/101_food_classes_10_percent/train/nachos'.\n",
      "There are 0 directories and 75 images in 'data/101_food_classes_10_percent/train/macaroni_and_cheese'.\n",
      "There are 0 directories and 75 images in 'data/101_food_classes_10_percent/train/bread_pudding'.\n",
      "There are 0 directories and 75 images in 'data/101_food_classes_10_percent/train/ramen'.\n",
      "There are 0 directories and 75 images in 'data/101_food_classes_10_percent/train/croque_madame'.\n",
      "There are 0 directories and 75 images in 'data/101_food_classes_10_percent/train/lasagna'.\n",
      "There are 0 directories and 75 images in 'data/101_food_classes_10_percent/train/peking_duck'.\n",
      "There are 0 directories and 75 images in 'data/101_food_classes_10_percent/train/deviled_eggs'.\n",
      "There are 0 directories and 75 images in 'data/101_food_classes_10_percent/train/french_fries'.\n",
      "There are 0 directories and 75 images in 'data/101_food_classes_10_percent/train/dumplings'.\n",
      "There are 0 directories and 75 images in 'data/101_food_classes_10_percent/train/fried_rice'.\n",
      "There are 0 directories and 75 images in 'data/101_food_classes_10_percent/train/french_onion_soup'.\n",
      "There are 0 directories and 75 images in 'data/101_food_classes_10_percent/train/pho'.\n",
      "There are 0 directories and 75 images in 'data/101_food_classes_10_percent/train/caprese_salad'.\n",
      "There are 0 directories and 75 images in 'data/101_food_classes_10_percent/train/oysters'.\n",
      "There are 0 directories and 75 images in 'data/101_food_classes_10_percent/train/baklava'.\n",
      "There are 0 directories and 75 images in 'data/101_food_classes_10_percent/train/creme_brulee'.\n",
      "There are 0 directories and 75 images in 'data/101_food_classes_10_percent/train/carrot_cake'.\n",
      "There are 0 directories and 75 images in 'data/101_food_classes_10_percent/train/onion_rings'.\n",
      "There are 0 directories and 75 images in 'data/101_food_classes_10_percent/train/caesar_salad'.\n"
     ]
    }
   ],
   "source": [
    "walk_through_dir('data/101_food_classes_10_percent/')"
   ]
  },
  {
   "cell_type": "code",
   "execution_count": 5,
   "metadata": {},
   "outputs": [
    {
     "name": "stdout",
     "output_type": "stream",
     "text": [
      "Found 7575 files belonging to 101 classes.\n",
      "Found 25250 files belonging to 101 classes.\n"
     ]
    }
   ],
   "source": [
    "# Set up data inputs\n",
    "IMG_SIZE = (224, 224)\n",
    "train_data_all_10_percent = tf.keras.preprocessing.image_dataset_from_directory(train_dir,\n",
    "                                                                                label_mode='categorical',\n",
    "                                                                                image_size=IMG_SIZE)\n",
    "test_data = tf.keras.preprocessing.image_dataset_from_directory(test_dir,\n",
    "                                                                label_mode='categorical',\n",
    "                                                                image_size=IMG_SIZE,\n",
    "                                                                shuffle=False)"
   ]
  },
  {
   "cell_type": "markdown",
   "metadata": {},
   "source": [
    "## Train a big dog model with transfer learning on 10% of 101 food classes"
   ]
  },
  {
   "cell_type": "code",
   "execution_count": 7,
   "metadata": {},
   "outputs": [],
   "source": [
    "# Create checkpoint callback\n",
    "checkpoint_path = 'data/101_food_classes_10_percent_data_model_checkpoint'\n",
    "checkpoint_callback = tf._keras.callbacks.ModelCheckpoint(checkpoint_path,\n",
    "                                                         save_weights_only=True,\n",
    "                                                         monitor='val_accuracy',\n",
    "                                                         save_best_only=True)"
   ]
  },
  {
   "cell_type": "code",
   "execution_count": 8,
   "metadata": {},
   "outputs": [],
   "source": [
    "# Create data augmentation layer to incorporate it right into the model\n",
    "from tensorflow.keras import layers\n",
    "from tensorflow.keras.layers.experimental import preprocessing\n",
    "from tensorflow.keras.models import Sequential\n",
    "\n",
    "# Setup data augmentation\n",
    "data_augmentation = Sequential([\n",
    "    preprocessing.RandomFlip('horizontal'),\n",
    "    preprocessing.RandomRotation(0.2),\n",
    "    preprocessing.RandomHeight(0.2),\n",
    "    preprocessing.RandomWidth(0.2),\n",
    "    preprocessing.RandomZoom(0.2),\n",
    "    #preprocessing.Rescale(1/255.)\n",
    "], name='data_augmentation')"
   ]
  },
  {
   "cell_type": "code",
   "execution_count": 9,
   "metadata": {},
   "outputs": [],
   "source": [
    "base_model = tf.keras.applications.EfficientNetB0(include_top=False)\n",
    "base_model.trainable = False\n",
    "\n",
    "# Setuo model architecture\n",
    "inputs = layers.Input(shape=(224, 224, 3), name='input_layer')\n",
    "x = data_augmentation(inputs)\n",
    "x = base_model(x, training=False)\n",
    "x = layers.GlobalAveragePooling2D(name='global_avg_pool_layer')(x)\n",
    "outputs = layers.Dense(len(train_data_all_10_percent.class_names), activation='softmax', name='output_layer')(x)\n",
    "model = tf.keras.Model(inputs, outputs)"
   ]
  },
  {
   "cell_type": "code",
   "execution_count": 10,
   "metadata": {},
   "outputs": [
    {
     "name": "stdout",
     "output_type": "stream",
     "text": [
      "Model: \"model\"\n",
      "_________________________________________________________________\n",
      " Layer (type)                Output Shape              Param #   \n",
      "=================================================================\n",
      " input_layer (InputLayer)    [(None, 224, 224, 3)]     0         \n",
      "                                                                 \n",
      " data_augmentation (Sequenti  (None, None, None, 3)    0         \n",
      " al)                                                             \n",
      "                                                                 \n",
      " efficientnetb0 (Functional)  (None, None, None, 1280)  4049571  \n",
      "                                                                 \n",
      " global_avg_pool_layer (Glob  (None, 1280)             0         \n",
      " alAveragePooling2D)                                             \n",
      "                                                                 \n",
      " output_layer (Dense)        (None, 101)               129381    \n",
      "                                                                 \n",
      "=================================================================\n",
      "Total params: 4,178,952\n",
      "Trainable params: 129,381\n",
      "Non-trainable params: 4,049,571\n",
      "_________________________________________________________________\n"
     ]
    }
   ],
   "source": [
    "model.summary()"
   ]
  },
  {
   "cell_type": "code",
   "execution_count": 14,
   "metadata": {},
   "outputs": [],
   "source": [
    "model.compile(\n",
    "    loss='categorical_crossentropy',\n",
    "    optimizer=tf.keras.optimizers.Adam(),\n",
    "    metrics=['accuracy']\n",
    ")"
   ]
  },
  {
   "cell_type": "code",
   "execution_count": 15,
   "metadata": {},
   "outputs": [
    {
     "name": "stdout",
     "output_type": "stream",
     "text": [
      "Epoch 1/5\n"
     ]
    },
    {
     "name": "stderr",
     "output_type": "stream",
     "text": [
      "2023-04-20 22:08:14.068990: I tensorflow/core/common_runtime/executor.cc:1197] [/device:CPU:0] (DEBUG INFO) Executor start aborting (this does not indicate an error and you can ignore this message): INVALID_ARGUMENT: You must feed a value for placeholder tensor 'Placeholder/_4' with dtype int32 and shape [7575]\n",
      "\t [[{{node Placeholder/_4}}]]\n",
      "2023-04-20 22:08:14.071224: I tensorflow/core/common_runtime/executor.cc:1197] [/device:CPU:0] (DEBUG INFO) Executor start aborting (this does not indicate an error and you can ignore this message): INVALID_ARGUMENT: You must feed a value for placeholder tensor 'Placeholder/_0' with dtype string and shape [7575]\n",
      "\t [[{{node Placeholder/_0}}]]\n"
     ]
    },
    {
     "name": "stdout",
     "output_type": "stream",
     "text": [
      "237/237 [==============================] - ETA: 0s - loss: 3.3735 - accuracy: 0.2822"
     ]
    },
    {
     "name": "stderr",
     "output_type": "stream",
     "text": [
      "2023-04-20 22:11:56.420344: I tensorflow/core/common_runtime/executor.cc:1197] [/device:CPU:0] (DEBUG INFO) Executor start aborting (this does not indicate an error and you can ignore this message): INVALID_ARGUMENT: You must feed a value for placeholder tensor 'Placeholder/_0' with dtype string and shape [25250]\n",
      "\t [[{{node Placeholder/_0}}]]\n",
      "2023-04-20 22:11:56.420673: I tensorflow/core/common_runtime/executor.cc:1197] [/device:CPU:0] (DEBUG INFO) Executor start aborting (this does not indicate an error and you can ignore this message): INVALID_ARGUMENT: You must feed a value for placeholder tensor 'Placeholder/_4' with dtype int32 and shape [25250]\n",
      "\t [[{{node Placeholder/_4}}]]\n"
     ]
    },
    {
     "name": "stdout",
     "output_type": "stream",
     "text": [
      "237/237 [==============================] - 326s 1s/step - loss: 3.3735 - accuracy: 0.2822 - val_loss: 2.5023 - val_accuracy: 0.4542\n",
      "Epoch 2/5\n",
      "237/237 [==============================] - 327s 1s/step - loss: 2.1964 - accuracy: 0.5006 - val_loss: 2.0768 - val_accuracy: 0.4989\n",
      "Epoch 3/5\n",
      "237/237 [==============================] - 315s 1s/step - loss: 1.8219 - accuracy: 0.5657 - val_loss: 1.9048 - val_accuracy: 0.5222\n",
      "Epoch 4/5\n",
      "237/237 [==============================] - 311s 1s/step - loss: 1.5981 - accuracy: 0.6084 - val_loss: 1.8476 - val_accuracy: 0.5246\n",
      "Epoch 5/5\n",
      "237/237 [==============================] - 310s 1s/step - loss: 1.4558 - accuracy: 0.6504 - val_loss: 1.7959 - val_accuracy: 0.5331\n"
     ]
    }
   ],
   "source": [
    "EPOCHS = 5\n",
    "history_all_classes_10_percent = model.fit(\n",
    "    train_data_all_10_percent,\n",
    "    epochs=EPOCHS,\n",
    "    validation_data=test_data,\n",
    "    validation_steps=int(0.15 * len(test_data)),\n",
    "    callbacks=[checkpoint_callback]\n",
    ")"
   ]
  },
  {
   "cell_type": "code",
   "execution_count": 1,
   "metadata": {},
   "outputs": [
    {
     "ename": "NameError",
     "evalue": "name 'plot_loss_function' is not defined",
     "output_type": "error",
     "traceback": [
      "\u001b[0;31m---------------------------------------------------------------------------\u001b[0m",
      "\u001b[0;31mNameError\u001b[0m                                 Traceback (most recent call last)",
      "Cell \u001b[0;32mIn[1], line 1\u001b[0m\n\u001b[0;32m----> 1\u001b[0m plot_loss_function(history_all_classes_10_percent)\n",
      "\u001b[0;31mNameError\u001b[0m: name 'plot_loss_function' is not defined"
     ]
    }
   ],
   "source": [
    "plot_loss_function(history_all_classes_10_percent)"
   ]
  },
  {
   "cell_type": "code",
   "execution_count": null,
   "metadata": {},
   "outputs": [],
   "source": [
    "model.compile(\n",
    "    \n",
    ")"
   ]
  }
 ],
 "metadata": {
  "kernelspec": {
   "display_name": "Python 3 (ipykernel)",
   "language": "python",
   "name": "python3"
  },
  "language_info": {
   "codemirror_mode": {
    "name": "ipython",
    "version": 3
   },
   "file_extension": ".py",
   "mimetype": "text/x-python",
   "name": "python",
   "nbconvert_exporter": "python",
   "pygments_lexer": "ipython3",
   "version": "3.11.2"
  }
 },
 "nbformat": 4,
 "nbformat_minor": 2
}
